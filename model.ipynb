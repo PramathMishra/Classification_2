{
 "cells": [
  {
   "cell_type": "markdown",
   "metadata": {},
   "source": [
    "###### **Data Exploration**"
   ]
  },
  {
   "cell_type": "code",
   "execution_count": 2,
   "metadata": {},
   "outputs": [
    {
     "name": "stdout",
     "output_type": "stream",
     "text": [
      "shape of the dataset:  (214, 10)\n",
      "##############################\n",
      "class distribution: \n",
      "Class=1, Count=70, Percentage=32.710%\n",
      "Class=2, Count=76, Percentage=35.514%\n",
      "Class=3, Count=17, Percentage=7.944%\n",
      "Class=5, Count=13, Percentage=6.075%\n",
      "Class=6, Count=9, Percentage=4.206%\n",
      "Class=7, Count=29, Percentage=13.551%\n"
     ]
    }
   ],
   "source": [
    "# load and summarize the dataset\n",
    "\n",
    "from pandas import read_csv\n",
    "from collections import Counter\n",
    "\n",
    "# define the dataset location\n",
    "filename = './data/glass.csv'\n",
    "\n",
    "# load the csv file as a data frame\n",
    "dataframe = read_csv(filename, header=None)\n",
    "\n",
    "# summarize the shape of the dataset\n",
    "print(\"shape of the dataset: \", dataframe.shape)\n",
    "\n",
    "# summarize the class distribution\n",
    "print(\"###\"*10)\n",
    "print(\"class distribution: \")\n",
    "target = dataframe.values[:,-1]\n",
    "counter = Counter(target)\n",
    "for k,v in counter.items():\n",
    "    per = v / len(target) * 100\n",
    "    print('Class=%d, Count=%d, Percentage=%.3f%%' % (k, v, per))"
   ]
  },
  {
   "cell_type": "code",
   "execution_count": 3,
   "metadata": {},
   "outputs": [
    {
     "data": {
      "image/png": "[encoded data removed]",
      "text/plain": [
       "<Figure size 432x288 with 12 Axes>"
      ]
     },
     "metadata": {
      "needs_background": "light"
     },
     "output_type": "display_data"
    }
   ],
   "source": [
    "# create histograms of all variables\n",
    "\n",
    "from pandas import read_csv\n",
    "from matplotlib import pyplot\n",
    "\n",
    "# define the dataset location\n",
    "filename = './data/glass.csv'\n",
    "\n",
    "# load the csv file as a data frame\n",
    "df = read_csv(filename, header=None)\n",
    "\n",
    "# create a histogram plot of each variable\n",
    "df.hist()\n",
    "\n",
    "# show the plot\n",
    "pyplot.show()"
   ]
  },
  {
   "cell_type": "markdown",
   "metadata": {},
   "source": [
    "###### **Model Test and Baseline Result**"
   ]
  },
  {
   "cell_type": "code",
   "execution_count": 4,
   "metadata": {},
   "outputs": [
    {
     "name": "stdout",
     "output_type": "stream",
     "text": [
      "(214, 9) (214,) Counter({1: 76, 0: 70, 5: 29, 2: 17, 3: 13, 4: 9})\n",
      "Mean Accuracy: 0.355 (0.009)\n"
     ]
    }
   ],
   "source": [
    "from collections import Counter\n",
    "from numpy import mean\n",
    "from numpy import std\n",
    "from pandas import read_csv\n",
    "from sklearn.preprocessing import LabelEncoder\n",
    "from sklearn.model_selection import cross_val_score\n",
    "from sklearn.model_selection import RepeatedStratifiedKFold\n",
    "from sklearn.dummy import DummyClassifier\n",
    " \n",
    "# load the dataset\n",
    "def load_dataset(full_path):\n",
    "    # load the dataset as a numpy array\n",
    "    data = read_csv(full_path, header=None)\n",
    "    # retrieve numpy array\n",
    "    data = data.values\n",
    "    # split into input and output elements\n",
    "    X, y = data[:, :-1], data[:, -1]\n",
    "    # label encode the target variable to have the classes 0 and 1\n",
    "    y = LabelEncoder().fit_transform(y)\n",
    "    return X, y\n",
    " \n",
    "# evaluate a model\n",
    "def evaluate_model(X, y, model):\n",
    "    # define evaluation procedure\n",
    "    cv = RepeatedStratifiedKFold(n_splits=5, n_repeats=3, random_state=1)\n",
    "    # evaluate model\n",
    "    scores = cross_val_score(model, X, y, scoring='accuracy', cv=cv, n_jobs=-1)\n",
    "    return scores\n",
    " \n",
    "# define the location of the dataset\n",
    "full_path = './data/glass.csv'\n",
    "\n",
    "# load the dataset\n",
    "X, y = load_dataset(full_path)\n",
    "\n",
    "# summarize the loaded dataset\n",
    "print(X.shape, y.shape, Counter(y))\n",
    "\n",
    "# define the reference model\n",
    "model = DummyClassifier(strategy='most_frequent')\n",
    "\n",
    "# evaluate the model\n",
    "scores = evaluate_model(X, y, model)\n",
    "\n",
    "# summarize performance\n",
    "print('Mean Accuracy: %.3f (%.3f)' % (mean(scores), std(scores)))"
   ]
  },
  {
   "cell_type": "markdown",
   "metadata": {},
   "source": [
    "###### **Evaluate Machine Learning Algorithms**"
   ]
  },
  {
   "cell_type": "code",
   "execution_count": 5,
   "metadata": {},
   "outputs": [
    {
     "name": "stdout",
     "output_type": "stream",
     "text": [
      ">SVM 0.662 (0.057)\n",
      ">KNN 0.651 (0.074)\n",
      ">BAG 0.779 (0.055)\n",
      ">RF 0.805 (0.057)\n",
      ">ET 0.791 (0.041)\n"
     ]
    },
    {
     "data": {
      "image/png": "[encoded data removed]",
      "text/plain": [
       "<Figure size 432x288 with 1 Axes>"
      ]
     },
     "metadata": {
      "needs_background": "light"
     },
     "output_type": "display_data"
    }
   ],
   "source": [
    "from numpy import mean\n",
    "from numpy import std\n",
    "from pandas import read_csv\n",
    "from matplotlib import pyplot\n",
    "from sklearn.preprocessing import LabelEncoder\n",
    "from sklearn.model_selection import cross_val_score\n",
    "from sklearn.model_selection import RepeatedStratifiedKFold\n",
    "from sklearn.svm import SVC\n",
    "from sklearn.neighbors import KNeighborsClassifier\n",
    "from sklearn.ensemble import RandomForestClassifier\n",
    "from sklearn.ensemble import ExtraTreesClassifier\n",
    "from sklearn.ensemble import BaggingClassifier\n",
    " \n",
    "# load the dataset\n",
    "def load_dataset(full_path):\n",
    "    # load the dataset as a numpy array\n",
    "    data = read_csv(full_path, header=None)\n",
    "    # retrieve numpy array\n",
    "    data = data.values\n",
    "    # split into input and output elements\n",
    "    X, y = data[:, :-1], data[:, -1]\n",
    "    # label encode the target variable to have the classes 0 and 1\n",
    "    y = LabelEncoder().fit_transform(y)\n",
    "    return X, y\n",
    " \n",
    "# evaluate a model\n",
    "def evaluate_model(X, y, model):\n",
    "    # define evaluation procedure\n",
    "    cv = RepeatedStratifiedKFold(n_splits=5, n_repeats=3, random_state=1)\n",
    "    # evaluate model\n",
    "    scores = cross_val_score(model, X, y, scoring='accuracy', cv=cv, n_jobs=-1)\n",
    "    return scores\n",
    " \n",
    "# define models to test\n",
    "def get_models():\n",
    "    models, names = list(), list()\n",
    "    # SVM\n",
    "    models.append(SVC(gamma='auto'))\n",
    "    names.append('SVM')\n",
    "    # KNN\n",
    "    models.append(KNeighborsClassifier())\n",
    "    names.append('KNN')\n",
    "    # Bagging\n",
    "    models.append(BaggingClassifier(n_estimators=1000))\n",
    "    names.append('BAG')\n",
    "    # RF\n",
    "    models.append(RandomForestClassifier(n_estimators=1000))\n",
    "    names.append('RF')\n",
    "    # ET\n",
    "    models.append(ExtraTreesClassifier(n_estimators=1000))\n",
    "    names.append('ET')\n",
    "    return models, names\n",
    " \n",
    "# define the location of the dataset\n",
    "full_path = './data/glass.csv'\n",
    "\n",
    "# load the dataset\n",
    "X, y = load_dataset(full_path)\n",
    "\n",
    "# define models\n",
    "models, names = get_models()\n",
    "results = list()\n",
    "\n",
    "# evaluate each model\n",
    "for i in range(len(models)):\n",
    "    # evaluate the model and store results\n",
    "    scores = evaluate_model(X, y, models[i])\n",
    "    results.append(scores)\n",
    "    # summarize performance\n",
    "    print('>%s %.3f (%.3f)' % (names[i], mean(scores), std(scores)))\n",
    "\n",
    "# plot the results\n",
    "pyplot.boxplot(results, labels=names, showmeans=True)\n",
    "pyplot.show()"
   ]
  },
  {
   "cell_type": "markdown",
   "metadata": {},
   "source": [
    "###### **Cost-Sensitive Random Forest**"
   ]
  },
  {
   "cell_type": "code",
   "execution_count": 6,
   "metadata": {},
   "outputs": [
    {
     "name": "stdout",
     "output_type": "stream",
     "text": [
      "Mean Accuracy: 0.797 (0.056)\n"
     ]
    }
   ],
   "source": [
    "from numpy import mean\n",
    "from numpy import std\n",
    "from pandas import read_csv\n",
    "from sklearn.preprocessing import LabelEncoder\n",
    "from sklearn.model_selection import cross_val_score\n",
    "from sklearn.model_selection import RepeatedStratifiedKFold\n",
    "from sklearn.ensemble import RandomForestClassifier\n",
    " \n",
    "# load the dataset\n",
    "def load_dataset(full_path):\n",
    "    # load the dataset as a numpy array\n",
    "    data = read_csv(full_path, header=None)\n",
    "    # retrieve numpy array\n",
    "    data = data.values\n",
    "    # split into input and output elements\n",
    "    X, y = data[:, :-1], data[:, -1]\n",
    "    # label encode the target variable\n",
    "    y = LabelEncoder().fit_transform(y)\n",
    "    return X, y\n",
    " \n",
    "# evaluate a model\n",
    "def evaluate_model(X, y, model):\n",
    "    # define evaluation procedure\n",
    "    cv = RepeatedStratifiedKFold(n_splits=5, n_repeats=3, random_state=1)\n",
    "    # evaluate model\n",
    "    scores = cross_val_score(model, X, y, scoring='accuracy', cv=cv, n_jobs=-1)\n",
    "    return scores\n",
    " \n",
    "# define the location of the dataset\n",
    "full_path = './data/glass.csv'\n",
    "\n",
    "# load the dataset\n",
    "X, y = load_dataset(full_path)\n",
    "\n",
    "# define the model\n",
    "weights = {0:1.0, 1:1.0, 2:2.0, 3:2.0, 4:2.0, 5:2.0}\n",
    "model = RandomForestClassifier(n_estimators=1000, class_weight=weights)\n",
    "\n",
    "# evaluate the model\n",
    "scores = evaluate_model(X, y, model)\n",
    "\n",
    "# summarize performance\n",
    "print('Mean Accuracy: %.3f (%.3f)' % (mean(scores), std(scores)))"
   ]
  },
  {
   "cell_type": "markdown",
   "metadata": {},
   "source": [
    "###### **Make Predictions on New Data**"
   ]
  },
  {
   "cell_type": "code",
   "execution_count": null,
   "metadata": {},
   "outputs": [],
   "source": [
    "from pandas import read_csv\n",
    "from sklearn.preprocessing import LabelEncoder\n",
    "from sklearn.ensemble import RandomForestClassifier\n",
    " \n",
    "# load the dataset\n",
    "def load_dataset(full_path):\n",
    "    # load the dataset as a numpy array\n",
    "    data = read_csv(full_path, header=None)\n",
    "    # retrieve numpy array\n",
    "    data = data.values\n",
    "    # split into input and output elements\n",
    "    X, y = data[:, :-1], data[:, -1]\n",
    "    # label encode the target variable to have the classes 0 and 1\n",
    "    y = LabelEncoder().fit_transform(y)\n",
    "    return X, y\n",
    " \n",
    "# define the location of the dataset\n",
    "full_path = './data/glass.csv'\n",
    "# load the dataset\n",
    "X, y = load_dataset(full_path)\n",
    "# define model to evaluate\n",
    "model = RandomForestClassifier(n_estimators=1000)\n",
    "# fit the model\n",
    "model.fit(X, y)\n",
    "# known class 0 (class=1 in the dataset)\n",
    "row = [1.52101,13.64,4.49,1.10,71.78,0.06,8.75,0.00,0.00]\n",
    "print('>Predicted=%d (expected 0)' % (model.predict([row])))\n",
    "# known class 1 (class=2 in the dataset)\n",
    "row = [1.51574,14.86,3.67,1.74,71.87,0.16,7.36,0.00,0.12]\n",
    "print('>Predicted=%d (expected 1)' % (model.predict([row])))\n",
    "# known class 2 (class=3 in the dataset)\n",
    "row = [1.51769,13.65,3.66,1.11,72.77,0.11,8.60,0.00,0.00]\n",
    "print('>Predicted=%d (expected 2)' % (model.predict([row])))\n",
    "# known class 3 (class=5 in the dataset)\n",
    "row = [1.51915,12.73,1.85,1.86,72.69,0.60,10.09,0.00,0.00]\n",
    "print('>Predicted=%d (expected 3)' % (model.predict([row])))\n",
    "# known class 4 (class=6 in the dataset)\n",
    "row = [1.51115,17.38,0.00,0.34,75.41,0.00,6.65,0.00,0.00]\n",
    "print('>Predicted=%d (expected 4)' % (model.predict([row])))\n",
    "# known class 5 (class=7 in the dataset)\n",
    "row = [1.51556,13.87,0.00,2.54,73.23,0.14,9.41,0.81,0.01]\n",
    "print('>Predicted=%d (expected 5)' % (model.predict([row])))"
   ]
  }
 ],
 "metadata": {
  "kernelspec": {
   "display_name": "Python 3",
   "language": "python",
   "name": "python3"
  },
  "language_info": {
   "codemirror_mode": {
    "name": "ipython",
    "version": 3
   },
   "file_extension": ".py",
   "mimetype": "text/x-python",
   "name": "python",
   "nbconvert_exporter": "python",
   "pygments_lexer": "ipython3",
   "version": "3.8.5"
  }
 },
 "nbformat": 4,
 "nbformat_minor": 4
}
